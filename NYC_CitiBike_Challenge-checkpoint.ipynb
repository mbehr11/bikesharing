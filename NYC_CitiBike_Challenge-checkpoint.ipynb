{
 "cells": [
  {
   "cell_type": "code",
   "execution_count": 1,
   "metadata": {},
   "outputs": [],
   "source": [
    "import pandas as pd"
   ]
  },
  {
   "cell_type": "code",
   "execution_count": 12,
   "metadata": {},
   "outputs": [
    {
     "name": "stdout",
     "output_type": "stream",
     "text": [
      "                                                         t  \\\n",
      "0                               393,00:01.5,06:35.4,531,Fo   \n",
      "1               627,00:01.9,10:29.8,274,Lafayette Ave & Fo   \n",
      "2                              1132,00:04.0,18:56.2,2000,F   \n",
      "3        1780,00:04.2,29:44.8,479,9 Ave & W 45 St,40.76...   \n",
      "4        1517,00:05.5,25:23.5,3312,1 Ave & E 94 St,40.7...   \n",
      "...                                                    ...   \n",
      "1048570  595,10:53.8,20:49.7,477,W 41 St & 8 Ave,40.756...   \n",
      "1048571  321,10:54.0,16:15.5,3557,40 Ave & 9 St,40.7574...   \n",
      "1048572  891,10:54.1,25:46.0,3708,W 13 St & 5 Ave,40.73...   \n",
      "1048573  194,10:54.9,14:09.5,168,W 18 St & 6 Ave,40.739...   \n",
      "1048574                       836,10:55.5,24:52.0,387,Cent   \n",
      "\n",
      "                                                      ipdu  \\\n",
      "0                                              syth St & B   \n",
      "1                                                      t G   \n",
      "2        ont St & Washington St,40.70255088,-73.9894023...   \n",
      "3             ystie St,40.72110063,-73.9919254,25002,Subsc   \n",
      "4                                                      ibe   \n",
      "...                                                    ...   \n",
      "1048570                                                ibe   \n",
      "1048571                                             th & C   \n",
      "1048572                                                NaN   \n",
      "1048573                                                ibe   \n",
      "1048574                                      e St & Chambe   \n",
      "\n",
      "                                                 ation,sta  \\\n",
      "0                  oome St,40.71893904,-73.99266288,408,Ma   \n",
      "1                   eene Pl,40.68691865,-73.976682,3409,Be   \n",
      "2                                         esident St & Hen   \n",
      "3                                                      ibe   \n",
      "4                                                  ,1965,2   \n",
      "...                                                    ...   \n",
      "1048570                                            ,1964,1   \n",
      "1048571     escent St,40.75110165,-73.94073717,17174,Subsc   \n",
      "1048572  ison St & Hudson St,40.71870987,-74.0090009,27...   \n",
      "1048573                                            ,1990,2   \n",
      "1048574  s St,40.71273266,-74.0046073,314,Cadman Plaza ...   \n",
      "\n",
      "                                        ttime,stoptime,sta t station id,sta  \\\n",
      "0                                             ket St & Che              NaN   \n",
      "1        gen St & Smith St,40.6867443,-73.99063168,3882...              ibe   \n",
      "2                 y St,40.6828003,-73.99990419,18373,Subsc              ibe   \n",
      "3                                                  ,1988,1              NaN   \n",
      "4                                                      NaN              NaN   \n",
      "...                                                    ...              ...   \n",
      "1048570                                                NaN              NaN   \n",
      "1048571                                                ibe          ,1976,1   \n",
      "1048572                                            ,1969,0              NaN   \n",
      "1048573                                                NaN              NaN   \n",
      "1048574                                                ibe          ,1988,1   \n",
      "\n",
      "                                t station name,sta t station latitude,sta  \\\n",
      "0        y St,40.71076228,-73.99400398,35305,Subsc                    ibe   \n",
      "1                                          ,1998,2                    NaN   \n",
      "2                                          ,1988,1                    NaN   \n",
      "3                                              NaN                    NaN   \n",
      "4                                              NaN                    NaN   \n",
      "...                                            ...                    ...   \n",
      "1048570                                        NaN                    NaN   \n",
      "1048571                                        NaN                    NaN   \n",
      "1048572                                        NaN                    NaN   \n",
      "1048573                                        NaN                    NaN   \n",
      "1048574                                        NaN                    NaN   \n",
      "\n",
      "        t station longitude,end station id,end station name,end station latitude,end station longitude,bikeid,use  \\\n",
      "0                                                  ,1996,2                                                          \n",
      "1                                                      NaN                                                          \n",
      "2                                                      NaN                                                          \n",
      "3                                                      NaN                                                          \n",
      "4                                                      NaN                                                          \n",
      "...                                                    ...                                                          \n",
      "1048570                                                NaN                                                          \n",
      "1048571                                                NaN                                                          \n",
      "1048572                                                NaN                                                          \n",
      "1048573                                                NaN                                                          \n",
      "1048574                                                NaN                                                          \n",
      "\n",
      "        type,bi th yea ,gende  Unnamed: 11  \n",
      "0           NaN    NaN    NaN          NaN  \n",
      "1           NaN    NaN    NaN          NaN  \n",
      "2           NaN    NaN    NaN          NaN  \n",
      "3           NaN    NaN    NaN          NaN  \n",
      "4           NaN    NaN    NaN          NaN  \n",
      "...         ...    ...    ...          ...  \n",
      "1048570     NaN    NaN    NaN          NaN  \n",
      "1048571     NaN    NaN    NaN          NaN  \n",
      "1048572     NaN    NaN    NaN          NaN  \n",
      "1048573     NaN    NaN    NaN          NaN  \n",
      "1048574     NaN    NaN    NaN          NaN  \n",
      "\n",
      "[1048575 rows x 12 columns]\n"
     ]
    }
   ],
   "source": [
    "# 1. Create a DataFrame for the 201908-citibike-tripdata data. \n",
    "august_bikedata=pd.read_csv('201908-citibike-tripdata.csv', 'r')\n",
    "print(august_bikedata)"
   ]
  },
  {
   "cell_type": "code",
   "execution_count": 13,
   "metadata": {},
   "outputs": [
    {
     "data": {
      "text/plain": [
       "<bound method NDFrame.head of                                                          t  \\\n",
       "0                               393,00:01.5,06:35.4,531,Fo   \n",
       "1               627,00:01.9,10:29.8,274,Lafayette Ave & Fo   \n",
       "2                              1132,00:04.0,18:56.2,2000,F   \n",
       "3        1780,00:04.2,29:44.8,479,9 Ave & W 45 St,40.76...   \n",
       "4        1517,00:05.5,25:23.5,3312,1 Ave & E 94 St,40.7...   \n",
       "...                                                    ...   \n",
       "1048570  595,10:53.8,20:49.7,477,W 41 St & 8 Ave,40.756...   \n",
       "1048571  321,10:54.0,16:15.5,3557,40 Ave & 9 St,40.7574...   \n",
       "1048572  891,10:54.1,25:46.0,3708,W 13 St & 5 Ave,40.73...   \n",
       "1048573  194,10:54.9,14:09.5,168,W 18 St & 6 Ave,40.739...   \n",
       "1048574                       836,10:55.5,24:52.0,387,Cent   \n",
       "\n",
       "                                                      ipdu  \\\n",
       "0                                              syth St & B   \n",
       "1                                                      t G   \n",
       "2        ont St & Washington St,40.70255088,-73.9894023...   \n",
       "3             ystie St,40.72110063,-73.9919254,25002,Subsc   \n",
       "4                                                      ibe   \n",
       "...                                                    ...   \n",
       "1048570                                                ibe   \n",
       "1048571                                             th & C   \n",
       "1048572                                                NaN   \n",
       "1048573                                                ibe   \n",
       "1048574                                      e St & Chambe   \n",
       "\n",
       "                                                 ation,sta  \\\n",
       "0                  oome St,40.71893904,-73.99266288,408,Ma   \n",
       "1                   eene Pl,40.68691865,-73.976682,3409,Be   \n",
       "2                                         esident St & Hen   \n",
       "3                                                      ibe   \n",
       "4                                                  ,1965,2   \n",
       "...                                                    ...   \n",
       "1048570                                            ,1964,1   \n",
       "1048571     escent St,40.75110165,-73.94073717,17174,Subsc   \n",
       "1048572  ison St & Hudson St,40.71870987,-74.0090009,27...   \n",
       "1048573                                            ,1990,2   \n",
       "1048574  s St,40.71273266,-74.0046073,314,Cadman Plaza ...   \n",
       "\n",
       "                                        ttime,stoptime,sta t station id,sta  \\\n",
       "0                                             ket St & Che              NaN   \n",
       "1        gen St & Smith St,40.6867443,-73.99063168,3882...              ibe   \n",
       "2                 y St,40.6828003,-73.99990419,18373,Subsc              ibe   \n",
       "3                                                  ,1988,1              NaN   \n",
       "4                                                      NaN              NaN   \n",
       "...                                                    ...              ...   \n",
       "1048570                                                NaN              NaN   \n",
       "1048571                                                ibe          ,1976,1   \n",
       "1048572                                            ,1969,0              NaN   \n",
       "1048573                                                NaN              NaN   \n",
       "1048574                                                ibe          ,1988,1   \n",
       "\n",
       "                                t station name,sta t station latitude,sta  \\\n",
       "0        y St,40.71076228,-73.99400398,35305,Subsc                    ibe   \n",
       "1                                          ,1998,2                    NaN   \n",
       "2                                          ,1988,1                    NaN   \n",
       "3                                              NaN                    NaN   \n",
       "4                                              NaN                    NaN   \n",
       "...                                            ...                    ...   \n",
       "1048570                                        NaN                    NaN   \n",
       "1048571                                        NaN                    NaN   \n",
       "1048572                                        NaN                    NaN   \n",
       "1048573                                        NaN                    NaN   \n",
       "1048574                                        NaN                    NaN   \n",
       "\n",
       "        t station longitude,end station id,end station name,end station latitude,end station longitude,bikeid,use  \\\n",
       "0                                                  ,1996,2                                                          \n",
       "1                                                      NaN                                                          \n",
       "2                                                      NaN                                                          \n",
       "3                                                      NaN                                                          \n",
       "4                                                      NaN                                                          \n",
       "...                                                    ...                                                          \n",
       "1048570                                                NaN                                                          \n",
       "1048571                                                NaN                                                          \n",
       "1048572                                                NaN                                                          \n",
       "1048573                                                NaN                                                          \n",
       "1048574                                                NaN                                                          \n",
       "\n",
       "        type,bi th yea ,gende  Unnamed: 11  \n",
       "0           NaN    NaN    NaN          NaN  \n",
       "1           NaN    NaN    NaN          NaN  \n",
       "2           NaN    NaN    NaN          NaN  \n",
       "3           NaN    NaN    NaN          NaN  \n",
       "4           NaN    NaN    NaN          NaN  \n",
       "...         ...    ...    ...          ...  \n",
       "1048570     NaN    NaN    NaN          NaN  \n",
       "1048571     NaN    NaN    NaN          NaN  \n",
       "1048572     NaN    NaN    NaN          NaN  \n",
       "1048573     NaN    NaN    NaN          NaN  \n",
       "1048574     NaN    NaN    NaN          NaN  \n",
       "\n",
       "[1048575 rows x 12 columns]>"
      ]
     },
     "execution_count": 13,
     "metadata": {},
     "output_type": "execute_result"
    }
   ],
   "source": [
    "august_bikedata.head"
   ]
  },
  {
   "cell_type": "code",
   "execution_count": 14,
   "metadata": {},
   "outputs": [
    {
     "data": {
      "text/plain": [
       "pandas.core.frame.DataFrame"
      ]
     },
     "execution_count": 14,
     "metadata": {},
     "output_type": "execute_result"
    }
   ],
   "source": [
    "# 2. Check the datatypes of your columns. \n",
    "type(august_bikedata)"
   ]
  },
  {
   "cell_type": "code",
   "execution_count": 5,
   "metadata": {},
   "outputs": [],
   "source": [
    "# 3. Convert the 'tripduration' column to datetime datatype.\n"
   ]
  },
  {
   "cell_type": "code",
   "execution_count": 6,
   "metadata": {},
   "outputs": [],
   "source": [
    "# 4. Check the datatypes of your columns. \n"
   ]
  },
  {
   "cell_type": "code",
   "execution_count": 7,
   "metadata": {},
   "outputs": [],
   "source": [
    "# 5. Export the Dataframe as a new CSV file without the index.\n"
   ]
  },
  {
   "cell_type": "code",
   "execution_count": null,
   "metadata": {},
   "outputs": [],
   "source": []
  }
 ],
 "metadata": {
  "kernelspec": {
   "display_name": "Python 3",
   "language": "python",
   "name": "python3"
  },
  "language_info": {
   "codemirror_mode": {
    "name": "ipython",
    "version": 3
   },
   "file_extension": ".py",
   "mimetype": "text/x-python",
   "name": "python",
   "nbconvert_exporter": "python",
   "pygments_lexer": "ipython3",
   "version": "3.8.8"
  }
 },
 "nbformat": 4,
 "nbformat_minor": 4
}
